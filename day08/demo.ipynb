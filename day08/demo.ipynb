{
 "cells": [
  {
   "cell_type": "code",
   "execution_count": 1,
   "id": "e62faf75-c5b8-45ff-b08a-1cf4786d3ca8",
   "metadata": {},
   "outputs": [],
   "source": [
    "x = 19"
   ]
  },
  {
   "cell_type": "code",
   "execution_count": 2,
   "id": "c0d17a1d-dec7-4cbd-9b2c-ad1e4f0e4a31",
   "metadata": {},
   "outputs": [],
   "source": [
    "y = 23"
   ]
  },
  {
   "cell_type": "code",
   "execution_count": 3,
   "id": "edcaf77d-d3c3-499a-b337-0fa67772fc7e",
   "metadata": {},
   "outputs": [],
   "source": [
    "def add(a, b):\n",
    "   return a + b"
   ]
  },
  {
   "cell_type": "code",
   "execution_count": 4,
   "id": "e99f9f09-2b5d-4e7d-a376-3e1dd8ef2c15",
   "metadata": {},
   "outputs": [
    {
     "data": {
      "text/plain": [
       "15"
      ]
     },
     "execution_count": 4,
     "metadata": {},
     "output_type": "execute_result"
    }
   ],
   "source": [
    "print(add(7,8))"
   ]
  },
  {
   "cell_type": "code",
   "execution_count": 5,
   "id": "210194e9-210b-4535-896b-cc37942b5a32",
   "metadata": {},
   "outputs": [
    {
     "data": {
      "text/plain": [
       "42"
      ]
     },
     "execution_count": 5,
     "metadata": {},
     "output_type": "execute_result"
    }
   ],
   "source": [
    "x + y"
   ]
  },
  {
   "cell_type": "code",
   "execution_count": 6,
   "id": "da3a89a0-3a1d-4618-8321-236f3b7067d8",
   "metadata": {},
   "outputs": [
    {
     "data": {
      "text/plain": [
       "7"
      ]
     },
     "execution_count": 6,
     "metadata": {},
     "output_type": "execute_result"
    }
   ],
   "source": [
    "add(3, 4)"
   ]
  },
  {
   "cell_type": "code",
   "execution_count": 7,
   "id": "589089b0-9914-4ba4-8c62-110eabda2a05",
   "metadata": {},
   "outputs": [
    {
     "data": {
      "text/plain": [
       "10"
      ]
     },
     "execution_count": 7,
     "metadata": {},
     "output_type": "execute_result"
    }
   ],
   "source": [
    "add(8, 2)"
   ]
  },
  {
   "cell_type": "code",
   "execution_count": 11,
   "id": "9ecd2097-dd34-4a0e-9e78-bd96c21ea95f",
   "metadata": {},
   "outputs": [],
   "source": [
    "file = \"input.csv\""
   ]
  },
  {
   "cell_type": "code",
   "execution_count": 10,
   "id": "f03afbcb-d9db-4519-a5e0-72b85bd53b10",
   "metadata": {},
   "outputs": [
    {
     "name": "stdin",
     "output_type": "stream",
     "text": [
      "file input.csv\n"
     ]
    }
   ],
   "source": [
    "file = input(\"file\")"
   ]
  }
 ],
 "metadata": {
  "kernelspec": {
   "display_name": "Python 3 (ipykernel)",
   "language": "python",
   "name": "python3"
  },
  "language_info": {
   "codemirror_mode": {
    "name": "ipython",
    "version": 3
   },
   "file_extension": ".py",
   "mimetype": "text/x-python",
   "name": "python",
   "nbconvert_exporter": "python",
   "pygments_lexer": "ipython3",
   "version": "3.12.3"
  }
 },
 "nbformat": 4,
 "nbformat_minor": 5
}
